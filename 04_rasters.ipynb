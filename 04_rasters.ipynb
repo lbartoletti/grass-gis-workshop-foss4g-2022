{
 "cells": [
  {
   "cell_type": "markdown",
   "id": "68a0e790-d2c5-433a-9598-3b8ff79fb6f1",
   "metadata": {},
   "source": [
    "# Grass et les rasters\n",
    "\n",
    "## Création de la session jupyter pour le workshop\n",
    "\n",
    "Dans les parties précédentes, nous avons réalisé la création du jeu de données.\n",
    "Nous allons maintenant configurer Jupyter pour utiliser les modules grass en python. Les commandes unix ou windows seront données après les commandes python Jupyter.\n",
    "\n",
    "Le code suivant va charger les modules grass et ouvre la session grass avec le Jeu de données `megeve\\urbanisme`\n",
    "\r\n"
   ]
  },
  {
   "cell_type": "code",
   "execution_count": null,
   "id": "a6a725f7-96ab-47c7-8704-6d9c4b069b8c",
   "metadata": {},
   "outputs": [],
   "source": [
    "# Import Python standard library and IPython packages we need.\n",
    "import subprocess\n",
    "import sys\n",
    "\n",
    "# Ask GRASS GIS where its Python packages are.\n",
    "sys.path.append(\n",
    "    subprocess.check_output([\"grass\", \"--config\", \"python_path\"], text=True).strip()\n",
    ")\n",
    "\n",
    "# Import the GRASS GIS packages we need.\n",
    "import grass.script as gs\n",
    "import grass.jupyter as gj\n",
    "\n",
    "# Start GRASS Session\n",
    "session = gj.init(\"~/grassdata\", \"megeve\", \"urbanisme\")\n",
    "\n",
    "# Defines datadir\n",
    "from pathlib import Path\n",
    "import os\n",
    "datadir = os.getcwd() / Path('data')"
   ]
  },
  {
   "cell_type": "markdown",
   "id": "21be80f4-55b8-4165-9851-bd536a678ae2",
   "metadata": {},
   "source": [
    "C'est l'équivalent de :\n",
    "\n",
    "\n",
    "Unix :\n",
    "\n",
    "```\n",
    "grass $HOME/grassdata/megeve/urbanisme\n",
    "```\n",
    "\n",
    "Windows :\n",
    "\n",
    "```\n",
    "C:\\OSGeo4W\\bin\\grass83.bat %HOMEPATH%\\grassdata\\megeve\\urbanisme\n",
    "```"
   ]
  },
  {
   "cell_type": "markdown",
   "id": "d9d2f01b-06de-4b79-a5d4-f77be173a2e4",
   "metadata": {},
   "source": [
    "Il y a deux APIs Python pour accéder aux outils - [GRASS GIS Python Scripting Library](https://grass.osgeo.org/grass-stable/manuals/libpython/script_intro.html) et [PyGRASS](https://grass.osgeo.org/grass-stable/manuals/libpython/pygrass_index.html).\n",
    "PyGRASS est plus intéressant pour les processus avancés. Ici, nous utiliserons le Python Scripting Library (`import grass.script as gs`)\n",
    "puisqu'il est simple et facile à utiliser.\n",
    "\n",
    "\n",
    "La bibliothèque de scripting Python de GRASS GIS fournit des fonctions pour appeler les modules GRASS au sein de scripts en tant que sous-processus. Les fonctions les plus couramment utilisées comprennent :\r\n",
    "\r\n",
    "* [run_command()](https://grass.osgeo.org/grass-stable/manuals/libpython/script.html#script.core.run_command) : utilisée avec des modules qui produisent des données raster/vectorielles où une sortie textuelle n'est pas attendue.\r\n",
    "* [read_command()](https://grass.osgeo.org/grass-stable/manuals/libpython/script.html#script.core.read_command) : utilisée lorsque nous sommes intéressés par la sortie textuelle.\r\n",
    "* [parse_command()](https://grass.osgeo.org/grass-stable/manuals/libpython/script.html#script.core.parse_command) : utilisée avec des modules produisant une sortie textuelle sous forme de paire clé=valeur.\r\n",
    "* [write_command()](https://grass.osgeo.org/grass-stable/manuals/libpython/script.html#script.core.write_command) : pour les modules qui attendent une entrée textuelle à partir de l'entrée standard ou d'un fichier.\r\n",
    "\r\n",
    "Il fournit également plusieurs fonctions enveloppantes pour les modules fréquemment appelés. La liste des fonctions enveloppantes pratiques avec des exemples comprend :\r\n",
    "\r\n",
    "* Métadonnées raster en utilisant [raster_info()](https://grass.osgeo.org/grass-stable/manuals/libpython/script.html#script.raster.raster_info) : `gs.raster_info('dsm')`\r\n",
    "* Métadonnées vectorielles en utilisant [vector_info()](https://grass.osgeo.org/grass-stable/manuals/libpython/script.html#script.vector.vector_info) : `gs.vector_info('roads')`\r\n",
    "* Liste des données raster dans l'emplacement actuel en utilisant [list_grouped()](https://grass.osgeo.org/grass-stable/manuals/libpython/script.html#script.core.list_grouped) : `gs.list_grouped(type=['raster'])`\r\n",
    "* Obtenir la région de calcul actuelle en utilisant [region()](https://grass.osgeo.org/grass-stable/manuals/libpython/script.html#script.core.region) : `gs.region()`\r\n",
    "* Exécuter une algèbre raster en utilisant [mapcalc()](https://grass.osgeo.org/grass-stable/manuals/libpython/script.html#script.raster.mapcalc) : `gs.mapcalc()`"
   ]
  },
  {
   "cell_type": "markdown",
   "id": "eb64e74f-6db4-4ed6-9643-2d2178b5a1fd",
   "metadata": {},
   "source": [
    "## Inondation / Création d'un lac\n",
    "\n",
    "On souhaite étudier la création d'un lac, ou le volume nécessaire pour innonder une position. Quel volume d'eau ai-je besoin pour une hauteur de 2 mètres ?\n",
    "\n",
    "\n",
    "Mes 3 points : \n",
    "\n",
    "- COORD=1979128.5,5189251.3\n",
    "- COORD=1983615,5186469\n",
    "- COORD=1981568,5189641\n",
    "\n",
    "Les étapes à suivre :\n",
    "- importer le mnt `r.in.gdal`\n",
    "- Définition de la région sur le mnt `g.region`\n",
    "- Création du lac `r.lake` Attention water_level nécessite d'avoir un Z > à celui de la coordonnée [1] (interrogation avec `r.what` [2] et on peut scripter avec `awk`) [1]\n",
    "- Création du relief `r.relief`\n",
    "- Création de la carte `d.mon` et `d.rast`"
   ]
  },
  {
   "cell_type": "markdown",
   "id": "40dafc04-56f4-4c41-979a-2900a2e19a99",
   "metadata": {},
   "source": [
    "[1]\n",
    "Si on tente de faire un lac de 5 m profond on va avoir ce genre d'erreur :\n",
    "\n",
    "```\n",
    "> r.lake elevation=mnt coordinates=1979128.5,5189251.3 water_level=5 lake=flood\n",
    "ERREUR : Given water level at seed point is below earth surface. Increase\n",
    "         water level or move seed point.\n",
    "```\n",
    "\n",
    "[2] \n",
    "```\n",
    "> r.what mnt coordinates=1979128.5,5189251.3\n",
    "1979128.5|5189251.3||1047.95349470892\n",
    "```"
   ]
  },
  {
   "cell_type": "code",
   "execution_count": null,
   "id": "24d36f10-6543-46c2-b6b7-8b99dbbe90d0",
   "metadata": {},
   "outputs": [],
   "source": [
    "gs.run_command(\"r.in.gdal\", input=datadir / \"mnt_4m.tif\", output=\"mnt\")\n",
    "gs.run_command(\"g.region\", raster=\"mnt\") # ou g.region raster=mnt\n",
    "gs.run_command(\"r.relief\", input=\"mnt\", output=\"mnt_relief\")"
   ]
  },
  {
   "cell_type": "code",
   "execution_count": null,
   "id": "0fefde23-94dd-4c0a-ba64-ea84af352295",
   "metadata": {},
   "outputs": [],
   "source": [
    "coords = ['1979128.5,5189251.3', '1983615,5186469', '1981568,5189641']\n",
    "lac_number = 1\n",
    "water_level = 2\n",
    "for coord in coords:\n",
    "    res_what = gs.read_command('r.what', map='mnt', coordinates=coord)\n",
    "    fond = float(res_what.split('|')[1]) - water_level\n",
    "    lac_name = 'lac' + str(lac_number)\n",
    "    gs.run_command('r.lake', elevation='mnt', water_level=fond, lake=lac_name, coordinates=coord, overwrite=True)\n",
    "    lac_number += 1\n"
   ]
  },
  {
   "cell_type": "markdown",
   "id": "b59b7e63-eee7-459d-99ea-8dcf1edaeed4",
   "metadata": {},
   "source": [
    "*Solution (sur unix):*\n",
    "\n",
    "```\n",
    "r.in.gdal $HOME/data/mnt_4m.tif output=mnt`\n",
    "g.region rows=433 cols=483 # ou g.region raster=mnt\n",
    "r.relief input=mnt output=mnt_relief\n",
    "COORD=1979128.5,5189251.3\n",
    "elevation=`r.what mnt coordinates=${COORD} | awk -F '|' '{print $4}'`\n",
    "r.lake elevation=mnt coordinates=${COORD} water_level=`echo $elevation+2 | bc` lake=flood\n",
    "```"
   ]
  },
  {
   "cell_type": "markdown",
   "id": "41506aaf-99da-4c3b-b671-c84932a39101",
   "metadata": {},
   "source": [
    "### Écoulement\r\n",
    "\r\n",
    "Je souhaite calculer deux écoulements sur deux points.- \r\n",
    "\r\n",
    "point 1 : 1978719.6, 51917\n",
    "- 7.3\r\n",
    "point 2 : 1983615, 518\n",
    "\n",
    "Les étapes :\n",
    "6469\r\n",
    "\r\n",
    "- Création d'une couche point avec `v.in.ascii`\r\n",
    "- Création de l'écoulement avec `r.drain`\r\n",
    "- Création de la carte `d.mon`, `d.shade`, `d.vect` et `d.legend`\r\n"
   ]
  },
  {
   "cell_type": "code",
   "execution_count": null,
   "id": "62676c49-9300-4166-86d7-afb96c8f7a72",
   "metadata": {},
   "outputs": [],
   "source": [
    "points=[\"1978719.6,5191787.3\", \"1983615,5186469\"]\n",
    "with open(\"/tmp/points\", \"w\") as f:\n",
    "    f.writelines(points)"
   ]
  },
  {
   "cell_type": "markdown",
   "id": "0a4b1bfb-7ebc-43cc-ab60-68f14df75b98",
   "metadata": {},
   "source": [
    "*Solution :*\r\n",
    "Unix. \r\n",
    "Création d'une table avec les poin :\n",
    "ts\r\n",
    "```\r\n",
    "v.in.ascii input=- output=start format=point separator=comma <<EOF\r\n",
    "1978719.6,5191787.3\r\n",
    "1983615,5186469\r\n",
    "EOF\r\n",
    "```\r\n",
    "\r\n",
    "ou sur windows : \r\n",
    "Créer un fichier avec les coordonées\r\n",
    "er\r\n",
    "et  : 'import avec \r\n",
    "\r\n",
    "`v.%HOMEPATH%\\Users\\oslandia\\data\\points.csv output=start separator=comma`"
   ]
  },
  {
   "cell_type": "code",
   "execution_count": null,
   "id": "93bebedd-bb0c-4544-99ad-b91665068155",
   "metadata": {},
   "outputs": [],
   "source": [
    "# Création d'une couche \"start\" depuis les points daans le fichier\n",
    "gs.run_command(\"v.in.ascii\", input=\"/tmp/points\", output=\"start\", separator=\"comma\")\n",
    "# Création de l'écoulement\n",
    "gs.run_command(\"r.drain\", input=\"mnt\", output=\"drain_path\", drain=\"drain\", start_points=\"start\")\n",
    "# Création de la couleur du mnt\n",
    "gs.run_command(\"r.colors\", map=\"mnt\", color=\"elevation\")"
   ]
  },
  {
   "cell_type": "code",
   "execution_count": null,
   "id": "da8ff868-cf7e-4746-b185-4780e148133f",
   "metadata": {},
   "outputs": [],
   "source": [
    "%%bash\n",
    "d.mon start=cairo output=$HOME/grass_png/ex_raster_drain.png \n",
    "# ou d.mon wx0\n",
    "d.shade shade=mnt_relief color=mnt\n",
    "d.vect map=drain color=0:0:61 width=4 legend_label=\"drainage paths\"\n",
    "d.vect map=start color=none fill_color=224:0:0 icon=basic/circle size=15 legend_label=origins\n",
    "d.legend.vect -b\n",
    "d.mon stop=cairo"
   ]
  },
  {
   "cell_type": "code",
   "execution_count": null,
   "id": "74be9388-e681-4dc8-a43c-5a6775aeb683",
   "metadata": {},
   "outputs": [],
   "source": [
    "# On utilise IPython pour afficher l'image dans le notebooks\n",
    "from IPython.display import Image, display\n",
    "import os\n",
    "from pathlib import Path\n",
    "display(Image(filename=Path(os.getenv('HOME')) / 'grass_png' / 'ex_raster_drain.png'))"
   ]
  },
  {
   "cell_type": "code",
   "execution_count": null,
   "id": "790a3c4d-d0dd-49ab-b995-bd3d938db2cc",
   "metadata": {},
   "outputs": [],
   "source": [
    "# ou directement avec Grass Jupyter\n",
    "# Instanciation de la carte\n",
    "hexa_map = gj.Map()\n",
    "# Ajout des hexagons et des commerces\n",
    "hexa_map.run(\"d.shade\", shade=\"mnt_relief\", color=\"mnt\")\n",
    "hexa_map.d_vect(map=\"drain\", color=\"0:0:61\", width=4, legend_label=\"drainage paths\")\n",
    "hexa_map.d_vect(map=\"start\", color=\"none\", fill_color=\"224:0:0\", icon=\"basic/circle\", size=15, legend_label=\"origins\")\n",
    "hexa_map.run(\"d.legend.vect\", flags=\"b\")\n",
    "# Display map\n",
    "hexa_map.show()"
   ]
  },
  {
   "cell_type": "markdown",
   "id": "1e4469a0-95d1-4abe-8dcc-5754ed79b33a",
   "metadata": {},
   "source": [
    "Toutefois, cela ne va pas jusqu'à la mer, cela s'arrête au premier point bas.\n",
    "On va utiliser le module de calcul hydrologique `r.watershed` pour réaliser cela. Il faut utiliser une formule \"bien connue\" (hmmm...) en utilisant la calculatrice raster `r.mapcalc`\n",
    "\n",
    "Maintenant on peut refaire la carte"
   ]
  },
  {
   "cell_type": "code",
   "execution_count": null,
   "id": "4895a6cc-d5d2-4e79-900a-285d1affd407",
   "metadata": {},
   "outputs": [],
   "source": [
    "%%bash\n",
    "r.watershed elevation=mnt accumulation=accum drainage=drain_dir\n",
    "r.mapcalc \"drain_deg = if(drain_dir != 0, 45. * abs(drain_dir), null())\"\n",
    "r.mapcalc \"const1 = 1\"\n",
    "r.drain -d input=const1 direction=drain_deg output=drain_path_2 drain=drain_2 start_points=start"
   ]
  },
  {
   "cell_type": "code",
   "execution_count": null,
   "id": "58927248-2efe-451f-a6db-c501f71578fa",
   "metadata": {},
   "outputs": [],
   "source": [
    "# ou directement avec Grass Jupyter\n",
    "# Instanciation de la carte\n",
    "hexa_map = gj.Map()\n",
    "# Ajout des hexagons et des commerces\n",
    "hexa_map.run(\"d.shade\", shade=\"mnt_relief\", color=\"mnt\")\n",
    "hexa_map.d_vect(map=\"drain_2\", color=\"0:0:61\", width=4, legend_label=\"drainage paths\")\n",
    "hexa_map.d_vect(map=\"start\", color=\"none\", fill_color=\"224:0:0\", icon=\"basic/circle\", size=15, legend_label=\"origins\")\n",
    "hexa_map.run(\"d.legend.vect\", flags=\"b\")\n",
    "# Display map\n",
    "hexa_map.show()"
   ]
  },
  {
   "cell_type": "markdown",
   "id": "6e5a28ef-6acc-469c-be5c-fee4242286a2",
   "metadata": {},
   "source": [
    "Voilà qui arrive jusqu'au bout (du mnt)"
   ]
  }
 ],
 "metadata": {
  "kernelspec": {
   "display_name": "Python 3 (ipykernel)",
   "language": "python",
   "name": "python3"
  },
  "language_info": {
   "codemirror_mode": {
    "name": "ipython",
    "version": 3
   },
   "file_extension": ".py",
   "mimetype": "text/x-python",
   "name": "python",
   "nbconvert_exporter": "python",
   "pygments_lexer": "ipython3",
   "version": "3.9.17"
  }
 },
 "nbformat": 4,
 "nbformat_minor": 5
}
