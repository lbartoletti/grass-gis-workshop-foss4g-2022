{
  "nbformat": 4,
  "nbformat_minor": 0,
  "metadata": {
    "colab": {
      "name": "Untitled3.ipynb",
      "provenance": []
    },
    "kernelspec": {
      "name": "python3",
      "display_name": "Python 3"
    },
    "language_info": {
      "name": "python"
    }
  },
  "cells": [
    {
      "cell_type": "code",
      "execution_count": null,
      "metadata": {
        "id": "qibM9kYhQ1uw"
      },
      "outputs": [],
      "source": [
        "%%bash\n",
        "# install dependencies\n",
        "apt install -y autoconf2.13 autotools-dev bison flex g++ gettext git imagemagick libblas-dev libbz2-dev libcairo2-dev libfftw3-dev libfreetype6-dev libgdal-dev libgeos-dev libglu1-mesa-dev libjpeg-dev liblapack-dev liblas-c-dev libncurses5-dev libnetcdf-dev libpng-dev libpq-dev libproj-dev libreadline-dev libsqlite3-dev libtiff-dev libxmu-dev libzstd-dev make netcdf-bin p7zip proj-bin sqlite3 unixodbc-dev xvfb zlib1g-dev libgomp1\n",
        "\n",
        "pip install Pillow\n",
        "pip install ply\n",
        "pip install PyVirtualDisplay\n",
        "\n",
        "git clone --depth 1 https://github.com/OSGeo/grass.git grass-src\n",
        "\n",
        "# enter the directory with source code\n",
        "cd grass-src\n",
        "\n",
        "# compile\n",
        "./configure \\\n",
        "    --enable-largefile=yes \\\n",
        "    --with-nls \\\n",
        "    --with-cxx \\\n",
        "    --with-readline \\\n",
        "    --with-bzlib \\\n",
        "    --with-pthread \\\n",
        "    --with-proj-share=/usr/share/proj \\\n",
        "    --with-geos=/usr/bin/geos-config \\\n",
        "    --with-cairo \\\n",
        "    --with-opengl-libs=/usr/include/GL \\\n",
        "    --with-freetype=yes --with-freetype-includes=\"/usr/include/freetype2/\" \\\n",
        "    --with-sqlite=yes \\\n",
        "    --with-openmp\n",
        "make -j2\n",
        "make -j2 install\n",
        "\n",
        "# leave the directory with source code\n",
        "cd ..\n",
        "\n",
        "# download sample data\n",
        "mkdir -p grassdata\n",
        "curl -SL https://grass.osgeo.org/sampledata/north_carolina/nc_spm_08_grass7.zip > nc_spm_08_grass7.zip\n",
        "unzip -qq nc_spm_08_grass7.zip\n",
        "mv nc_spm_08_grass7 grassdata\n",
        "rm nc_spm_08_grass7.zip\n",
        "wget https://zenodo.org/record/6967699/files/FOSS4G_2022_GRASS_GIS_workshop.zip\n",
        "unzip FOSS4G_2022_GRASS_GIS_workshop.zip\n",
        "rm FOSS4G_2022_GRASS_GIS_workshop.zip"
      ]
    }
  ]
}