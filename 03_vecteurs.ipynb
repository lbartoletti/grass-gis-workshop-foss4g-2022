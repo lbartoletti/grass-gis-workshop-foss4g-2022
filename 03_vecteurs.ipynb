{
 "cells": [
  {
   "cell_type": "markdown",
   "id": "d0764e72-a86c-4b52-a289-730cd19362e3",
   "metadata": {},
   "source": [
    "# Grass et les vecteurs\n",
    "\n",
    "## Création de la session jupyter pour le workshop\n",
    "\n",
    "Dans les parties précédentes, nous avons réalisé la création du jeu de données.\n",
    "Nous allons maintenant configurer Jupyter pour utiliser les modules grass en python. Les commandes unix ou windows seront données après les commandes python Jupyter.\n",
    "\n",
    "Le code suivant va charger les modules grass et ouvre la session grass avec le Jeu de données `megeve\\urbanisme`\n",
    "\r\n"
   ]
  },
  {
   "cell_type": "code",
   "execution_count": null,
   "id": "cca598ab-6ef1-43ce-bbb8-658bf387e2b6",
   "metadata": {},
   "outputs": [],
   "source": [
    "# Import Python standard library and IPython packages we need.\n",
    "import subprocess\n",
    "import sys\n",
    "\n",
    "# Ask GRASS GIS where its Python packages are.\n",
    "sys.path.append(\n",
    "    subprocess.check_output([\"grass\", \"--config\", \"python_path\"], text=True).strip()\n",
    ")\n",
    "\n",
    "# Import the GRASS GIS packages we need.\n",
    "import grass.script as gs\n",
    "import grass.jupyter as gj\n",
    "\n",
    "# Start GRASS Session\n",
    "session = gj.init(\"~/grassdata\", \"megeve\", \"urbanisme\")\n",
    "\n",
    "# Defines datadir\n",
    "from pathlib import Path\n",
    "import os\n",
    "datadir = os.getcwd() / Path('data')"
   ]
  },
  {
   "cell_type": "markdown",
   "id": "ddd180b3-dd13-419c-bf6e-1873e402b7bd",
   "metadata": {},
   "source": [
    "C'est l'équivalent de :\n",
    "\n",
    "\n",
    "Unix :\n",
    "\n",
    "```\n",
    "grass $HOME/grassdata/megeve/urbanisme\n",
    "```\n",
    "\n",
    "Windows :\n",
    "\n",
    "```\n",
    "C:\\OSGeo4W\\bin\\grass83.bat %HOMEPATH%\\grassdata\\megeve\\urbanisme\n",
    "```"
   ]
  },
  {
   "cell_type": "markdown",
   "id": "b25233ae-6afc-48cc-a185-34c0e017f8fb",
   "metadata": {},
   "source": [
    "Il y a deux APIs Python pour accéder aux outils - [GRASS GIS Python Scripting Library](https://grass.osgeo.org/grass-stable/manuals/libpython/script_intro.html) et [PyGRASS](https://grass.osgeo.org/grass-stable/manuals/libpython/pygrass_index.html).\n",
    "PyGRASS est plus intéressant pour les processus avancés. Ici, nous utiliserons le Python Scripting Library (`import grass.script as gs`)\n",
    "puisqu'il est simple et facile à utiliser.\n",
    "\n",
    "\n",
    "La bibliothèque de scripting Python de GRASS GIS fournit des fonctions pour appeler les modules GRASS au sein de scripts en tant que sous-processus. Les fonctions les plus couramment utilisées comprennent :\r\n",
    "\r\n",
    "* [run_command()](https://grass.osgeo.org/grass-stable/manuals/libpython/script.html#script.core.run_command) : utilisée avec des modules qui produisent des données raster/vectorielles où une sortie textuelle n'est pas attendue.\r\n",
    "* [read_command()](https://grass.osgeo.org/grass-stable/manuals/libpython/script.html#script.core.read_command) : utilisée lorsque nous sommes intéressés par la sortie textuelle.\r\n",
    "* [parse_command()](https://grass.osgeo.org/grass-stable/manuals/libpython/script.html#script.core.parse_command) : utilisée avec des modules produisant une sortie textuelle sous forme de paire clé=valeur.\r\n",
    "* [write_command()](https://grass.osgeo.org/grass-stable/manuals/libpython/script.html#script.core.write_command) : pour les modules qui attendent une entrée textuelle à partir de l'entrée standard ou d'un fichier.\r\n",
    "\r\n",
    "Il fournit également plusieurs fonctions enveloppantes pour les modules fréquemment appelés. La liste des fonctions enveloppantes pratiques avec des exemples comprend :\r\n",
    "\r\n",
    "* Métadonnées raster en utilisant [raster_info()](https://grass.osgeo.org/grass-stable/manuals/libpython/script.html#script.raster.raster_info) : `gs.raster_info('dsm')`\r\n",
    "* Métadonnées vectorielles en utilisant [vector_info()](https://grass.osgeo.org/grass-stable/manuals/libpython/script.html#script.vector.vector_info) : `gs.vector_info('roads')`\r\n",
    "* Liste des données raster dans l'emplacement actuel en utilisant [list_grouped()](https://grass.osgeo.org/grass-stable/manuals/libpython/script.html#script.core.list_grouped) : `gs.list_grouped(type=['raster'])`\r\n",
    "* Obtenir la région de calcul actuelle en utilisant [region()](https://grass.osgeo.org/grass-stable/manuals/libpython/script.html#script.core.region) : `gs.region()`\r\n",
    "* Exécuter une algèbre raster en utilisant [mapcalc()](https://grass.osgeo.org/grass-stable/manuals/libpython/script.html#script.raster.mapcalc) : `gs.mapcalc()`"
   ]
  },
  {
   "cell_type": "markdown",
   "id": "e1755875-309d-4828-bc7b-819382d4f28e",
   "metadata": {},
   "source": [
    "## Intégration des données (vecteur)\r\n",
    "\r\n",
    "https://grass.osgeo.org/grass82/manuals/vectorintro.htmlLe mode par défaut de \r\n",
    "\r\n",
    "GRest de stocker ses données dans sa propre base. Il s'agit en fait d'un son \"répertoir\n",
    "e\". Heureusement on peut partager des données à l'intérieur de la même localisati\n",
    "on. Sauf à vouloir travailler en script/ETL, Grass doit dupliquer cette donnée, il n'y a pas de partage possible d'un shapefile entre QGIS et GRASS par exemple. Il est par contre possible de \"lier\" une table postgresql dans grass sans la dupliquant dans GRASS.\r\n",
    "\r\n",
    "Les modules à connaître sont : \r\n",
    "\r\n",
    "- v.in.ogr\r\n",
    "- v.in.ascii\r\n",
    "- v- v.import.external\r"
   ]
  },
  {
   "cell_type": "markdown",
   "id": "a87b5a5f-5f1a-4979-88b2-fbe74d829c65",
   "metadata": {},
   "source": [
    "### Intégration d'un fichier shape\n",
    "\n",
    "On va intégrer le fichier \"ZONE_URBA.s qui est dans le dossier data de ce workshop.hp\"\n",
    "\n",
    "- tester avec `v.in.ogr`\n",
    "- tester avec `v.import`\n",
    "- lister les données `g.list`\n",
    "- étendre la région `g.region`\n",
    "\n",
    "Voir le manuel, pour une définition de la [région](https://grass.osgeo.org/grass-stable/manuals/g.region.html)\n",
    "ml) `g."
   ]
  },
  {
   "cell_type": "code",
   "execution_count": null,
   "id": "d62c0432-61da-47f1-9ee8-aaca0b934af0",
   "metadata": {},
   "outputs": [],
   "source": [
    "gs.run_command(\"v.in.ogr\", input=f\"{datadir}/ZONE_URBA.shp\", output=\"zone_urba\", flags=\"e\")"
   ]
  },
  {
   "cell_type": "markdown",
   "id": "c38175ae-3388-4165-8ea7-fb292499ee01",
   "metadata": {},
   "source": [
    "*Solution en mode CLI:* \n",
    "\n",
    "Unix :\r\n",
    "\r\n",
    "`v.in.ogr -e input=$HOME/data/ZONE_URBA.p`\n",
    "sh\n",
    "Windows :\n",
    "\n",
    "`v.in.ogr -e input=%HOMEPATH%\\data\\ZONE_URBA.shpp`\r\n",
    "\r\n",
    "Mais cela ne fonctionne pas. Il n'y a pas de projection à la volée.\r\n",
    "\r\n",
    "```\r\n",
    "ERREUR : Projection of dataset does not appear to match current location.\r\n",
    "\r\n",
    "         Location PROJ_INFO is:\r\n",
    "         name: RGF93 / CC46\r\n",
    "         ellps: grs80\r\n",
    "         proj: lcc\r\n",
    "         lat_0: 46\r\n",
    "         lon_0: 3\r\n",
    "         lat_1: 45.25\r\n",
    "         lat_2: 46.75\r\n",
    "         x_0: 1700000\r\n",
    "         y_0: 5200000\r\n",
    "         towgs84: 0,0,0,0,0,0,0\r\n",
    "         no_defs: defined\r\n",
    "         init: EPSG:3946\r\n",
    "\r\n",
    "         Le PROJ_INFO du jeu de données est :\r\n",
    "         name: RGF93 / Lambert-93\r\n",
    "         ellps: grs80\r\n",
    "         proj: lcc\r\n",
    "         lat_0: 46.5\r\n",
    "         lon_0: 3\r\n",
    "         lat_1: 49\r\n",
    "         lat_2: 44\r\n",
    "         x_0: 700000\r\n",
    "         y_0: 6600000\r\n",
    "         towgs84: 0,0,0,0,0,0,0\r\n",
    "         no_defs: defined\r\n",
    "\r\n",
    "         ERROR: x_0\r\n",
    "\r\n",
    "         In case of no significant differences in the projection\r\n",
    "         definitions, use the -o flag to ignore them and use current\r\n",
    "         location definition.\r\n",
    "         Consider generating ng\n",
    "         the 'location' parameter.\n",
    "```\n",
    "a new location from the input dataset usi"
   ]
  },
  {
   "cell_type": "markdown",
   "id": "482a8a62-8f39-4bda-9ff7-202d3b5f66da",
   "metadata": {},
   "source": [
    "\r\n",
    "On va utiliser le module `v.imrt` :po"
   ]
  },
  {
   "cell_type": "code",
   "execution_count": null,
   "id": "56200e85-9302-421b-b542-79196db4b6aa",
   "metadata": {},
   "outputs": [],
   "source": [
    "!v.import input=$HOME/notebooks/qgis8_formation_grass/data/ZONE_URBA.shp output=zone_urba"
   ]
  },
  {
   "cell_type": "code",
   "execution_count": null,
   "id": "871ce11b-47a5-440b-9990-7df68cfe79a0",
   "metadata": {},
   "outputs": [],
   "source": [
    "gs.run_command(\"v.import\", input=f\"{datadir}/ZONE_URBA.shp\", output=\"zone_urba\", overwrite=True, verbose=True)"
   ]
  },
  {
   "cell_type": "markdown",
   "id": "cc54e5c8-1a41-454e-86bc-5ab09ac0b27c",
   "metadata": {},
   "source": [
    "*Solution en mode CLI:* \n",
    "\n",
    "Unix :\n",
    "\n",
    "`v.import input=$HOME/data/ZONE_URBA.shp output=zone_urba`\n",
    "\n",
    "Windows :\n",
    "\n",
    "`v.import input=%HOMEPATH%\\data\\ZONE_URBA.shp output=zone_urba`\n",
    "sur les rasters."
   ]
  },
  {
   "cell_type": "markdown",
   "id": "5d03b7cc-262f-4fd0-8a68-2d17c61ee019",
   "metadata": {},
   "source": [
    "On remarque qu'il y a eu une reprojection et quelques corrections dans la topologie.\n",
    "\n",
    "On vérifie que la couche est bien dans notre jeu de données : \n"
   ]
  },
  {
   "cell_type": "code",
   "execution_count": null,
   "id": "a1a96125-7278-4d2c-9a19-392135e3766f",
   "metadata": {},
   "outputs": [],
   "source": [
    "print(gs.read_command('g.list', type=[\"vector\"]))"
   ]
  },
  {
   "cell_type": "markdown",
   "id": "ce4a2990-379a-43de-b29e-fe4aaf30d6f8",
   "metadata": {},
   "source": [
    "On remarque que type est une liste, on peut afficher plusieurs types de données (raster, raster_3d, etc), voir le manuel de [g.list](https://grass.osgeo.org/grass-stable/manuals/g.list.html)\n",
    "\n",
    "*Solution en mode CLI : *\n",
    "\n",
    "`g.list type=vector`\n"
   ]
  },
  {
   "cell_type": "markdown",
   "id": "c7205106-e81b-4239-973c-c55b58d18cee",
   "metadata": {},
   "source": [
    "## Région de calcul\n",
    "\n",
    "La [région](https://grass.osgeo.org/grass-stable/manuals/g.region.html) doit être modifiée. \n",
    "\n",
    "`g.region -p` va afficher la région. On veut caler celle-ci sur notre jeu de données."
   ]
  },
  {
   "cell_type": "code",
   "execution_count": null,
   "id": "65ce884a-1367-476d-9a13-0327f709aaea",
   "metadata": {},
   "outputs": [],
   "source": [
    "print(gs.read_command('g.region', flags=\"p\"))"
   ]
  },
  {
   "cell_type": "code",
   "execution_count": null,
   "id": "201a858d-5150-410c-8c9e-072d519e6dee",
   "metadata": {},
   "outputs": [],
   "source": [
    "gs.run_command('g.region', vector=\"zone_urba\")"
   ]
  },
  {
   "cell_type": "markdown",
   "id": "4dd882e6-b422-4d54-8e9a-0b1ee44d86d1",
   "metadata": {},
   "source": [
    "*Solution en mode CLI : *\n",
    "\n",
    "`g.region vector=zone_urba`\n"
   ]
  },
  {
   "cell_type": "code",
   "execution_count": null,
   "id": "2d70c528-2290-4df5-9c95-901415cf212c",
   "metadata": {},
   "outputs": [],
   "source": [
    "print(gs.read_command('g.region', flags=\"p\"))"
   ]
  },
  {
   "cell_type": "markdown",
   "id": "f0333ab4-0379-49ab-adfa-9106c492b3c3",
   "metadata": {},
   "source": [
    "On affiche la nouvelle région avec `g.region -p` pour afficher. \n",
    "\n",
    "La région de calcul est un concept important pour les données raster dans GRASS GIS. \n",
    "Avant d'utiliser un module pour calculer une nouvelle carte raster, il est nécessaire de définir correctement la région de calcul. \n",
    "Tous les calculs raster seront effectués dans l'étendue spécifiée et avec la résolution donnée. \n",
    "Cela nous permet notamment de sous-échantillonner facilement des données à plus grande échelle pour des tests plus rapides d'analyse, ou d'exécuter une analyse sur des régions spécifiques définies par exemple par des unités administratives.\n",
    "\n",
    "Quelques points à retenir :\n",
    "\n",
    "- La région de calcul est définie par l'étendue de la région et la résolution des données raster.\n",
    "- Elle s'applique à toutes les opérations sur les données raster et aux opérations de conversion vectoriel-raster.\n",
    "- Elle persiste entre les sessions GRASS et peut être différente pour différents ensembles de données (mapsets).\n",
    "- Avantages : maintient la cohérence des résultats, évite le rognage des données, pour les tâches exigeantes en calcul, définissez la région sur une étendue plus petite, vérifiez que votre résultat est bon, puis définissez la région de calcul sur l'ensemble de la zone d'étude et relancez l'analyse.\n",
    "- Exécutez la commande `g.region -p` pour afficher les paramètres actuels de la région de calcul."
   ]
  },
  {
   "cell_type": "markdown",
   "id": "9dc09c73-dcd0-4381-afc5-5de9dc82d7a7",
   "metadata": {},
   "source": [
    "Nous allons importer les autres vecteurs (\"batiment\", \"commerces\", \"fp_monument\", \"fp_voie\", \"geo_batiment\", \"geo_commune\", \"geo_parcelle\")\n",
    "Ceux contenant un \"_\", nous les importerons en supprimant le préfixe, \"fp_monument\" deviendra \"monument\""
   ]
  },
  {
   "cell_type": "code",
   "execution_count": null,
   "id": "b8d0da58-294c-47d9-a0bd-ace74b2ebbff",
   "metadata": {},
   "outputs": [],
   "source": [
    "shapefiles = (\"commerces\", \"fp_monument\", \"fp_voie\", \"geo_batiment\", \"geo_commune\", \"geo_parcelle\")\n",
    "for f in shapefiles:\n",
    "    idx = f.find(\"_\") + 1\n",
    "    f_output = f[idx:]\n",
    "    gs.run_command(\"v.in.ogr\", input=f\"{datadir}/{f}.shp\", output=f_output, flags=\"e\")"
   ]
  },
  {
   "cell_type": "markdown",
   "id": "2790c35d-f242-43b2-9073-33de1614e6e8",
   "metadata": {},
   "source": [
    "Pour l'intégration en ligne de commande, nous procédons comme suit :\n",
    "\n",
    "Unix :\n",
    "\n",
    "```sh\n",
    "v.in.ogr -e input=$HOME/data/batiment.shp output=batiment\n",
    "v.in.ogr -e input=$HOME/data/commerces.shp output=commerces\n",
    "v.in.ogr -e input=$HOME/data/fp_monument.shp output=monument\n",
    "v.in.ogr -e input=$HOME/data/fp_voie.shp output=voie\n",
    "v.in.ogr -e input=$HOME/data/geo_batiment.shp output=batiment\n",
    "v.in.ogr -e input=$HOME/data/geo_commune.shp output=commune\n",
    "v.in.ogr -e input=$HOME/data/geo_parcelle.shp output=parcelle\n",
    "```\n",
    "\n",
    "Windows :\n",
    "\n",
    "```sh\n",
    "v.in.ogr -e input=%HOMEPATH%\\data\\batiment.shp output=batiment\n",
    "v.in.ogr -e input=%HOMEPATH%\\data\\commerces.shp output=commerces\n",
    "v.in.ogr -e input=%HOMEPATH%\\data\\fp_monument.shp output=monument\n",
    "v.in.ogr -e input=%HOMEPATH%\\data\\fp_voie.shp output=voie\n",
    "v.in.ogr -e input=%HOMEPATH%\\data\\geo_batiment.shp output=batiment\n",
    "v.in.ogr -e input=%HOMEPATH%\\data\\geo_commune.shp output=commune\n",
    "v.in.ogr -e input=%HOMEPATH%\\data\\geo_parcelle.shp output=parcelle\n",
    "```"
   ]
  },
  {
   "cell_type": "markdown",
   "id": "39e008fa-2af6-4dff-bd3c-d04dec183961",
   "metadata": {},
   "source": [
    "On s'assure de l'intégration des données avec `g.list`"
   ]
  },
  {
   "cell_type": "code",
   "execution_count": null,
   "id": "4661fe74-a3f9-44ef-a9cb-c885d1ffa922",
   "metadata": {},
   "outputs": [],
   "source": [
    "!g.list type=vector"
   ]
  },
  {
   "cell_type": "code",
   "execution_count": null,
   "id": "16e22464-09db-4e1c-ad6c-50715d56eb2d",
   "metadata": {},
   "outputs": [],
   "source": [
    "!v.info batiment"
   ]
  },
  {
   "cell_type": "markdown",
   "id": "af76a1d6-aa1c-42f3-898e-d6aaff275cd5",
   "metadata": {},
   "source": [
    "## Votre première analyse\n",
    "\n",
    "\r\n",
    "- 1. Utiliser le module `v.info` sur`zone_urba`A et` voi`e. Analyser les différences\r\n",
    "- 2. Identifier les données de la couche monument aux coordonnées \"1981529.69 5191664.15\". Module `v.what`\r\n",
    "- 3. Faire une requête sur les zone U* de la couc`zone_urba`RBA affichant les colonnes LIBELLE et l'identifiant unique (cat dans GRASS). Module `v.db.select `\r\n",
    "- 4. Compter le nombre de commerces `zone_urba` avec le moduleURBA `v.vect.stats`\r\n",
    "- 5. Pareil mais en modifiant la ,t`able` area pour ajouter le résultat\r\n",
    "- 6. Une pause graphique : on va afficher la répartition des commerces sur une grille hexag On définira la résolution à 2000 avec le module `g.region`.onale..\r\n",
    "- 6.1 Refaire la même manipulation mais avec 200 et ajouter la limite de la commune en rouge (fill_color=none color=\"255;0;0\") à la place des commerces. Cela devra être enregistré en png (moniteur cairo)\r\n"
   ]
  },
  {
   "cell_type": "code",
   "execution_count": null,
   "id": "3cfb2c28-d080-40fd-9fb5-1bf2a6a97a34",
   "metadata": {},
   "outputs": [],
   "source": [
    "# 1. Utilisation du module v.info\n",
    "print(gs.read_command(\"v.info\", map=\"zone_urba\"))\n",
    "print(gs.read_command(\"v.info\", map=\"voie\"))\n",
    "gs.vector_info(\"voie\") # pour une autre forme d'affichage"
   ]
  },
  {
   "cell_type": "code",
   "execution_count": null,
   "id": "15439866-2af0-4021-8ca7-8a818a2632b1",
   "metadata": {},
   "outputs": [],
   "source": [
    "# 2. information au point 1981529.69,5191664.15 de la couche monument\n",
    "print(gs.read_command(\"v.what\", flags=\"a\", map=\"monument\", coordinates=\"1981529.69,5191664.15\"))"
   ]
  },
  {
   "cell_type": "code",
   "execution_count": null,
   "id": "ecc07548-0ea0-4024-91b0-21bee7c12e3f",
   "metadata": {},
   "outputs": [],
   "source": [
    "# 3. requête sur les zone U* de la couche `zone_urba`\n",
    "print(gs.read_command(\"v.db.select\", map=\"zone_urba\", columns=[\"cat\",\"LIBELLE\"], where=\"LIBELLE LIKE 'U%'\"))"
   ]
  },
  {
   "cell_type": "code",
   "execution_count": null,
   "id": "2333232b-8a18-4cfa-b0d2-742139c147d5",
   "metadata": {},
   "outputs": [],
   "source": [
    "# 4. Compter le nombre de commerces par `zone_urba` avec le module `v.vect.stats`\n",
    "print(gs.read_command(\"v.vect.stats\", points=\"commerces\", area=\"zone_urba\", flags=\"p\"))"
   ]
  },
  {
   "cell_type": "code",
   "execution_count": null,
   "id": "bb4b92ff-08d5-4391-bf9a-edb6e5e829e2",
   "metadata": {},
   "outputs": [],
   "source": [
    "# 5. Enregistrement du nombre de commerces dans une colonne num_points\n",
    "# Utilisation de run_command puisque l'on n'attend pas de retour\n",
    "gs.run_command(\"v.vect.stats\", points=\"commerces\", area=\"zone_urba\", count_column=\"num_points\")"
   ]
  },
  {
   "cell_type": "code",
   "execution_count": null,
   "id": "f6f25b09-e9a7-46ba-987d-cf94c8f04d4d",
   "metadata": {},
   "outputs": [],
   "source": [
    "# 6. Définition de la résolution sur l'extent du commerces\n",
    "print(gs.read_command(\"g.region\", vector=\"commerces\", res=\"2000\", flags=\"pa\"))\n",
    "# on peut également faire\n",
    "# gs.run_command(\"g.region\", vector=\"commerces\", res=\"2000\", flags=\"a\")\n",
    "# print(gs.read_command(\"g.region\", flags=\"p\")"
   ]
  },
  {
   "cell_type": "code",
   "execution_count": null,
   "id": "d6391c78-9899-4f2e-9eab-c9c107df28a7",
   "metadata": {},
   "outputs": [],
   "source": [
    "# Création d'une grille hexagonale. Elle va utiliser la \"res\" de la région pour les dimensions de l'hexagone\n",
    "gs.run_command(\"v.mkgrid\", map=\"hexagons\", flags=\"h\")"
   ]
  },
  {
   "cell_type": "code",
   "execution_count": null,
   "id": "999ccd57-e303-4aa6-a562-1e670b02eb7c",
   "metadata": {},
   "outputs": [],
   "source": [
    "# Création de la couche statistiques\n",
    "gs.run_command(\"v.vect.stats\", points=\"commerces\", areas=\"hexagons\", method=\"sum\", points_column=\"id\", count_column=\"count\", stats_column=\"sum\")"
   ]
  },
  {
   "cell_type": "code",
   "execution_count": null,
   "id": "65dc0935-a138-400d-94e0-1e257f79fc07",
   "metadata": {},
   "outputs": [],
   "source": [
    "# Définition de la couleur de la couche hexagons\n",
    "gs.run_command(\"v.colors\", map=\"hexagons\", use=\"attr\", column=\"count\", color=\"viridis\")"
   ]
  },
  {
   "cell_type": "code",
   "execution_count": null,
   "id": "77729651-9c1d-431e-bfa5-3bfe86f22eef",
   "metadata": {},
   "outputs": [],
   "source": [
    "# Instanciation de la carte\n",
    "hexa_map = gj.Map()\n",
    "# Ajout des hexagons et des commerces\n",
    "hexa_map.d_vect(map=\"hexagons\", legend_label=\"zones\")\n",
    "hexa_map.d_vect(map=\"commerces\")\n",
    "hexa_map.run(\"d.legend.vect\", flags=\"b\", at=\"2,20\", title=\"Répartition du nombre de commerces\", symbol_size=\"10\", fontsize=\"8\", title_fontsize=\"10\")\n",
    "# Display map\n",
    "hexa_map.show()"
   ]
  },
  {
   "cell_type": "code",
   "execution_count": null,
   "id": "741a24ae-43d3-4915-8a56-1dc5ae37e16b",
   "metadata": {},
   "outputs": [],
   "source": [
    "%%bash\n",
    "# info de voirie\n",
    "v.info map=voie\n",
    "# info de zone_urba\n",
    "v.info map=zone_urba\n",
    "# information au point 1981529.69,5191664.15 de la couche monument\n",
    "# sur unix, on peut également utiliser `echo \"1981529.69 5191664.15\" | v.what -a monument coordinates=-`\n",
    "v.what -a monument coordinates=1981529.69,5191664.15\n",
    "# Requête sur zone_urba. On remarque que c'est du SQL (pour rappel, par défaut, les couches sont en SQLite)\n",
    "v.db.select map=zone_urba columns=cat,LIBELLE where=\"LIBELLE LIKE 'U%'\"\n",
    "# Affichage du nombre de commerces\n",
    "v.vect.stats points=commerces area=zone_urba -p\n",
    "# Enregistrement du nombre de commerces dans une colonne num_points\n",
    "v.vect.stats points=commerces area=zone_urba count_column=num_points\n",
    "# Définition de la résolution sur l'extent du commerces\n",
    "g.region vector=commerces res=2000 -pa\n",
    "# Création d'une grille hexagonale. Elle va utiliser la \"res\" de la région pour les dimensions de l'hexagone\n",
    "v.mkgrid map=hexagons -h\n",
    "# Création de la couche statistiques\n",
    "v.vect.stats points=commerces areas=hexagons method=sum points_column=id count_column=count stats_column=sum\n",
    "# Définition de la couleur de la couche hexagons\n",
    "v.colors map=hexagons use=attr column=count color=viridis\n",
    "# Création du moniteur wx0\n",
    "d.mon wx0\n",
    "# Ajout de la couche hexagons ; elle utilisera sa couleur\n",
    "d.vect hexagons\n",
    "# Ajout de la couche des commerces\n",
    "d.vect commerces\n",
    "# Ajout d'une légende\n",
    "d.legend.vect -b at=2,20 title=\"Répartition du nombre de commerces\" symbol_size=10 fontsize=8 title_fontsize=10"
   ]
  },
  {
   "cell_type": "markdown",
   "id": "25f1ec67-d352-4bdb-a124-dec1bf41f52e",
   "metadata": {},
   "source": [
    "On peut également exporter directement l'image avec le module cairo par exemple :"
   ]
  },
  {
   "cell_type": "code",
   "execution_count": null,
   "id": "080b48fc-b4ea-476c-9f38-81cc653b79b6",
   "metadata": {},
   "outputs": [],
   "source": [
    "%%bash\n",
    "mkdir $HOME/grass_png\n",
    "# ou d.mon wx0 pour activer le moniteur wx en local\n",
    "d.mon start=cairo output=$HOME/grass_png/ex_6.png \n",
    "d.vect hexagons\n",
    "d.vect commerces\n",
    "d.legend.vect -b at=2,20 title=\"Répartition du nombre de commerces\" symbol_size=10 fontsize=8 title_fontsize=10\n",
    "# étape inutile si le moniteur est wx0\n",
    "d.mon stop=cairo"
   ]
  },
  {
   "cell_type": "code",
   "execution_count": null,
   "id": "3ebea89b-5764-4033-9ce2-d4eb327a2406",
   "metadata": {},
   "outputs": [],
   "source": [
    "# On utilise IPython pour afficher l'image dans le notebooks\n",
    "from IPython.display import Image, display\n",
    "import os\n",
    "from pathlib import Path\n",
    "display(Image(filename=Path(os.getenv('HOME')) / 'grass_png' / 'ex_6.png'))"
   ]
  },
  {
   "cell_type": "markdown",
   "id": "6ffa7a5f-7a35-4fbe-b316-6cda735346cd",
   "metadata": {},
   "source": [
    "Le code pour la réponse 6.1"
   ]
  },
  {
   "cell_type": "code",
   "execution_count": null,
   "id": "b0694462-9ea3-419f-8f59-c15a0c1f8034",
   "metadata": {},
   "outputs": [],
   "source": [
    "\n",
    "%%bash\n",
    "g.region vector=commerces res=200 -pa\n",
    "v.mkgrid map=hexagons -h --overwrite\n",
    "v.vect.stats points=commerces areas=hexagons method=sum points_column=id count_column=count stats_column=sum --overwrite\n",
    "v.colors map=hexagons use=attr column=count color=viridis --overwrite\n",
    "d.mon start=cairo output=$HOME/grass_png/ex_6_1.png \n",
    "d.vect hexagons\n",
    "#d.vect commerces\n",
    "d.vect commune fill_color=none color=\"255;0;0\"\n",
    "d.mon stop=cairo"
   ]
  },
  {
   "cell_type": "code",
   "execution_count": null,
   "id": "aa241d9e-7dc0-4a62-9871-41b6c5678fb5",
   "metadata": {},
   "outputs": [],
   "source": [
    "# On utilise IPython pour afficher l'image dans le notebooks\n",
    "from IPython.display import Image, display\n",
    "import os\n",
    "from pathlib import Path\n",
    "display(Image(filename=Path(os.getenv('HOME')) / 'grass_png' / 'ex_6_1.png'))"
   ]
  },
  {
   "cell_type": "markdown",
   "id": "5725ca17-ec72-458c-81b6-77b5eaf26ad6",
   "metadata": {},
   "source": [
    "### [Urbanisme] Comment faire une analyse spatiale ?\n",
    "\n",
    "Je souhaite connaître les parcelles en \"zone à vocations d'activités économiques\" ne possèdant pas de bâtiment.\n",
    "\n",
    "- `db.select` pour trouver le LIBELLE de la zone\n",
    "- `v.extract` pour extraire la sélection\n",
    "- `v.in.ogr` pour intégrer geo_parcelle et geo_batiment (ouptut: parcelles, batiment)\n",
    "- `v.overlay` pour l'analyse spatiale entre parcelles et zone_urba\n",
    "- `v.select` pour la sélection des parcelles sans bâtiment\n",
    "\n"
   ]
  },
  {
   "cell_type": "code",
   "execution_count": null,
   "id": "5731e028-7227-44b9-a774-e0ca17b72e9d",
   "metadata": {},
   "outputs": [],
   "source": [
    "# on cherche à connaître les zone à vocation économique. On réalise une requête SQL pour trouver la zone économique se trouvant dans LIBELONG\n",
    "print(gs.read_command(\"db.select\", flags=\"c\", sql=\"select DISTINCT LIBELLE from zone_urba WHERE LIBELONG LIKE '%conomiques'\"))\n",
    "# On réalise l'extraction des zones en UX\n",
    "gs.run_command(\"v.extract\", input=\"zone_urba\", where=\"LIBELLE = 'UX'\", output=\"zone_ux\")\n",
    "# On réalise l'opération spatiale \"and\" (intersection)\n",
    "gs.run_command(\"v.overlay\", ainput=\"parcelle\", binput=\"zone_ux\", operator=\"and\", output=\"parcelles_zone_ux\", flags=\"t\")\n",
    "# On exporte le résultat dans `parcelles_zone_ux_sans_bati`  grâce à une sélection\n",
    "gs.run_command(\"v.select\", ainput=\"parcelles_zone_ux\", binput=\"batiment\", output=\"parcelles_zone_ux_sans_bati\", operator=\"disjoint\")"
   ]
  },
  {
   "cell_type": "code",
   "execution_count": null,
   "id": "7c712483-65e2-4005-8417-b7de8755acae",
   "metadata": {},
   "outputs": [],
   "source": [
    "gs.run_command(\"g.region\", vector=\"commune\")\n",
    "# Instanciation de la carte\n",
    "urba_map = gj.Map()\n",
    "# Ajout des hexagons et des commerces\n",
    "urba_map.d_vect(map=\"commune\", fill_color=\"none\", color=\"255;0;0\" )\n",
    "urba_map.d_vect(map=\"parcelles_zone_ux_sans_bati\", legend_label=\"parcelles en zone UX sans bati\", fill_color=\"255;0;0\", color=\"255;0;0\" )\n",
    "# Display map\n",
    "urba_map.show()"
   ]
  },
  {
   "cell_type": "code",
   "execution_count": null,
   "id": "9e51c1f6-7ee6-4d9d-8cbc-5b01cd0790da",
   "metadata": {},
   "outputs": [],
   "source": [
    "%%bash\n",
    "\n",
    "db.select -c sql=\"select DISTINCT LIBELLE from zone_urba WHERE LIBELONG LIKE '%conomiques'\"\n",
    "v.extract input=zone_urba where=\"LIBELLE = 'UX'\" output=zone_ux\n",
    "v.overlay ainput=parcelles binput=zone_ux operator=and output=parcelles_zone_ux -t\n",
    "v.select ainput=parcelles_zone_ux binput=batiment output=parcelles_zone_ux_sans_bati operator=disjoint"
   ]
  },
  {
   "cell_type": "markdown",
   "id": "95ad4135-17c0-4df5-9bae-94a8ae47fc69",
   "metadata": {},
   "source": [
    "### Module de routing (v.net)\r\n",
    "\r\n",
    "#### Isodistance\r\n",
    "\r\n",
    "Je suis propriétaire du restaurant \"'Flocons village'\", je souhaite connaître à combien de mètres sont les habitants de mon établissement. J'aimerai une carte avec indication [1000, 2000, 5000] mètres.\r\n",
    "\r\n",
    "- Extraire le commerce `v.extract`\r\n",
    "- Création du réseau (connection entre point et routes) `v.net` (op=connect)\r\n",
    "- Calcul de l'isodistance `v.net.iso`\r\n",
    "- Création de la carte `d.mon` et `d.vect`"
   ]
  },
  {
   "cell_type": "code",
   "execution_count": null,
   "id": "0411296e-f4b4-4ef9-b570-eebc14aa93fd",
   "metadata": {},
   "outputs": [],
   "source": [
    "\n",
    "# Extraction du point du commerce dans la couche 'mon_commerce'\n",
    "gs.run_command(\"v.extract\", input=\"commerces\", where=\"nom = 'Flocons village'\", output=\"mon_commerce\")\n",
    "# Création du réseau\n",
    "gs.run_command(\"v.net\", input=\"voie\", points=\"mon_commerce\", op=\"connect\", thresh=\"200\", out=\"routes\")\n",
    "# Création des isochrones\n",
    "gs.run_command(\"v.net.iso\", input=\"routes\", output=\"routes_iso\", center_cats=\"1-10000\", costs=[1000,2000,5000])\n"
   ]
  },
  {
   "cell_type": "code",
   "execution_count": null,
   "id": "9d5ac95b-ff8c-4bdb-a6c5-2343fde8b762",
   "metadata": {},
   "outputs": [],
   "source": [
    "\n",
    "# Instanciation de la carte\n",
    "net_map = gj.Map()\n",
    "# Ajout des couches\n",
    "net_map.d_vect(map=\"commune\", fill_color=\"none\", color=\"255;0;0\" )\n",
    "net_map.d_vect(map=\"routes_iso\", col=\"blue\", cats=\"1\")\n",
    "net_map.d_vect(map=\"routes_iso\", col=\"green\", cats=\"2\")\n",
    "net_map.d_vect(map=\"routes_iso\", col=\"orange\", cats=\"3\")\n",
    "net_map.d_vect(map=\"routes_iso\", col=\"magenta\", cats=\"4\")\n",
    "net_map.d_vect(map=\"routes\", col=\"red\", icon=\"basic/triangle\", fcol=\"green\", size=12, layer=2)\n",
    "# On affiche la carte\n",
    "net_map.show()"
   ]
  },
  {
   "cell_type": "code",
   "execution_count": null,
   "id": "890ff504-a76e-49f0-b016-59b40c816104",
   "metadata": {},
   "outputs": [],
   "source": [
    "%%bash\n",
    "v.extract input=commerces where=\"nom = 'Flocons village'\" output=mon_commerce\n",
    "v.net voirie points=mon_commerce op=connect thresh=200 out=routes\n",
    "v.net.iso input=routes output=routes_iso center_cats=1-10000 costs=1000,2000,5000\n",
    "# ou d.mon start=cairo etc\n",
    "d.mon wx0\n",
    "d.vect routes_iso col=blue cats=1\n",
    "d.vect routes_iso col=green cats=2\n",
    "d.vect routes_iso col=orange cats=3\n",
    "d.vect routes_iso col=magenta cats=4\n",
    "d.vect routes col=red icon=basic/triangle fcol=green size=12 layer=2\n",
    "# d.mon stop=cairo"
   ]
  },
  {
   "cell_type": "markdown",
   "id": "95fcb923-980d-46bd-8fa3-d21608bf3a75",
   "metadata": {},
   "source": [
    "#### voyageur de commerce\n",
    "\n",
    "Je suis des services techniques et je dois informer tous les commerces des travaux à venir.\n",
    "Mais, on ne va faire que les 100 premiers. Comment je fais pour optimiser mon trajet ?\n",
    "\n",
    "- Création du réseau (connection routes et commerces) `v.net` (op=connect)\n",
    "- Calcul du parcours `v.net.salesman` (option center_cats)\n",
    "- Création de la carte `d.mon` et `d.vect`"
   ]
  },
  {
   "cell_type": "code",
   "execution_count": null,
   "id": "4a41ba1c-adf9-4694-aab2-d46f0f367383",
   "metadata": {},
   "outputs": [],
   "source": [
    "# Création du réseau\n",
    "gs.run_command(\"v.net\", input=\"voie\", points=\"commerces\", op=\"connect\", thresh=\"2000\", out=\"routes_commerces\")\n",
    "# On ne relie que les 100 premiers\n",
    "gs.run_command(\"v.net.salesman\", input=\"routes_commerces\", center_cats=\"1-100\", out=\"salesman\")"
   ]
  },
  {
   "cell_type": "code",
   "execution_count": null,
   "id": "0de058e9-4ce5-4ae5-b1bb-583ece2cefa8",
   "metadata": {},
   "outputs": [],
   "source": [
    "gs.run_command(\"g.region\", save=\"salesman_region\", vector=\"salesman\")"
   ]
  },
  {
   "cell_type": "code",
   "execution_count": null,
   "id": "b8e85348-e5bb-40d0-86d3-65986b91366b",
   "metadata": {},
   "outputs": [],
   "source": [
    "# On va zoomer sur le résultat en créant une région que l'on va utiliser lors de l'instanciation de la carte\n",
    "gs.run_command(\"g.region\", region=\"salesman_region\", vector=\"salesman\")\n",
    "# Instanciation de la carte\n",
    "net_map = gj.Map(saved_region=\"salesman_region\")\n",
    "# Ajout des couches\n",
    "net_map.d_vect(map=\"commune\", fill_color=\"none\", color=\"red\" )\n",
    "net_map.d_vect(map=\"commerces\", col=\"green\")\n",
    "net_map.d_vect(map=\"routes_commerces\", col=\"blue\")\n",
    "net_map.d_vect(map=\"salesman\", col=\"red\")\n",
    "# On affiche la carte\n",
    "net_map.show()"
   ]
  },
  {
   "cell_type": "code",
   "execution_count": null,
   "id": "3d5b3541-c837-4101-9d58-9b0b864af411",
   "metadata": {},
   "outputs": [],
   "source": [
    "# La solution en CLI\n",
    "%%bash\n",
    "v.net voirie points=commerces op=connect thresh=2000 out=routes_commerces\n",
    "v.net.salesman routes_commerces center_cats=1-100 out=salesman\n",
    "# ou d.mon start=cairo etc\n",
    "d.mon wx0\n",
    "d.vect salesman\n",
    "d.vect commerces cats=1-100\n",
    "# d.mon stop=cairo"
   ]
  },
  {
   "cell_type": "markdown",
   "id": "f5e76851-1a2f-45fa-9544-1cfffd6c7445",
   "metadata": {},
   "source": [
    "Grass Jupyter peut également utiliser une carte interactive où l'on peut zoomer/dézoomer et utiliser les contrôles classiques.\n",
    "\n",
    "La classe InteractiveMap affiche les rasters et les vecteurs de GRASS GIS à l'aide de [folium](http://python-visualization.github.io/folium/), une bibliothèque [Leaflet](https://leafletjs.com/) pour Python.\n",
    "\n",
    "Voici un exemple :"
   ]
  },
  {
   "cell_type": "code",
   "execution_count": null,
   "id": "4a163314-71f3-4dc4-85af-d59a86501a18",
   "metadata": {},
   "outputs": [],
   "source": [
    "!pip install folium"
   ]
  },
  {
   "cell_type": "code",
   "execution_count": null,
   "id": "937c62c0-11c8-4ef6-9ec6-ede5ab4f3993",
   "metadata": {},
   "outputs": [],
   "source": [
    "# Instanciation de la carte\n",
    "imap = gj.InteractiveMap(width=600, height=480)\n",
    "# Ajout des couches\n",
    "imap.add_vector(\"commune\")\n",
    "imap.add_vector(\"commerces\")\n",
    "imap.add_vector(\"routes_commerces\")\n",
    "imap.add_vector(\"salesman\")\n",
    "imap.add_layer_control(position = \"bottomright\")"
   ]
  },
  {
   "cell_type": "code",
   "execution_count": null,
   "id": "399d3d9a-d81e-4489-90f1-44318e5398fc",
   "metadata": {},
   "outputs": [],
   "source": [
    "imap.show()"
   ]
  },
  {
   "cell_type": "markdown",
   "id": "11dceb5a-8b91-43c3-8062-666c3602288b",
   "metadata": {},
   "source": [
    "#### Aller plus loin : \n",
    "\n",
    "- https://grass.osgeo.org/grass-stable/manuals/topic_network.html\n",
    "- https://grass.osgeo.org/grass-stable/manuals/v.net.html\n",
    "- https://grass.osgeo.org/grass-stable/manuals/v.net.iso.html\n",
    "- https://grass.osgeo.org/grass-stable/manuals/v.net.salesman.html\n",
    "- https://grass.osgeo.org/grass-stable/manuals/addons/v.isochrones.html (extension)"
   ]
  },
  {
   "cell_type": "code",
   "execution_count": null,
   "id": "b70b2c98-fe33-4dc6-b026-873035cda497",
   "metadata": {},
   "outputs": [],
   "source": []
  }
 ],
 "metadata": {
  "kernelspec": {
   "display_name": "Python 3 (ipykernel)",
   "language": "python",
   "name": "python3"
  },
  "language_info": {
   "codemirror_mode": {
    "name": "ipython",
    "version": 3
   },
   "file_extension": ".py",
   "mimetype": "text/x-python",
   "name": "python",
   "nbconvert_exporter": "python",
   "pygments_lexer": "ipython3",
   "version": "3.9.17"
  }
 },
 "nbformat": 4,
 "nbformat_minor": 5
}
