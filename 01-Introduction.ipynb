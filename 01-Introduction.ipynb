{
 "cells": [
  {
   "cell_type": "markdown",
   "id": "2a8863b0-34c5-4ca4-9d12-79417f3cb0e8",
   "metadata": {},
   "source": [
    "# QGIS8 - Modélisation et analyse spatiale avec GRASS\r\n",
    "Bienvenue dans cette formation sur l'utilisation de GRASS GIS au travers des notebooks JupyterLab !\n",
    "\n",
    "## Introduction à Grass\n",
    "\n",
    "### Généralités\r\n",
    "- C'est quoi GRASS ? https://grass.osgeo.org/\r\n",
    "- GRASS GIS, commonly referred to as GRASS (Geographic Resources Analysis Support System), is a free and open source Geographic Information System (GIS) software suite used for geospatial data management and analysis, image processing, graphics and maps production, spatial modeling, and visualization. GRASS GIS is currently used in academic and commercial settings around the world, as well as by many governmental agencies and environmental consulting companies. It is a founding member of the Open Source Geospatial Foundation (OSGeo).\r\n",
    "\r",
    "#\n",
    "### Un peu d'histoire\r\n",
    "- U.S. Army Construction Engineering Research Laboratories (USA-CERL, 1982-1995)\r\n",
    "- 1997 Le développement se poursuit à Baylor University (Waco, Texas)\r\n",
    "- 1998 Puis à Hannovre avec Markus Neteler\r\n",
    "- Oct 1999: GRASS GIS 5 sous licence GPL\r\n",
    "- 2001 : Déménagement du projet en Italie (Trento)\r\n",
    "- 2006 : Intégration à l'OSGEO\r\n",
    "- Mi 2019 : modernisation en passant sur# github\r\n",
    "\r\n",
    "### Que peut-on faire avec ?\r\n",
    "- (quasiment ?) Tout\r\n",
    "- Du vectoriel (dont Z, M et T)\r\n",
    "- Du raster et MNT\r\n",
    "- Du raster 3D (voxel)\r\n",
    "- Du temporel\r\n",
    "- Traitements de nuage de points (LAS, LiDAR, etc.)\r\n",
    "- Télédétection\r\n",
    "- Machine learning, classification supervisée\r\n",
    "- Traitements d'imagerie\r\n",
    "- Visualisation 2D, 3D, 4D\r\n",
    "- Création de carte\r\n",
    "- Support SQL (SQLite par défaut, MySQL, PGSQL, ODBC et ... dbf)\r\n",
    "- Géostatistique\r\n",
    "- Intégration avec Python (par défaut), Shell, R, etc.\r\n",
    "- et même de la réalité virtuelle avec un Kinect http://tangible-landscape.git#hub.io/applications.html\r\n",
    "\r\n",
    "### Qui l'utilise ?\r\n",
    "- Universités, Recherches\r\n",
    "- Agence gouvernementale (Beaucoup de dév de l'union européenne)\r\n",
    "- Bureau d'études (géotech, solai#re, imagerie, spatiale, etc.)\r\n",
    "\r\n",
    "### Qui sont les dév ?\r\n",
    "- Principalement Allemagne, Tchèquie, Italie et USA\r\n",
    "- Martin Landa - Université de Prague\r\n",
    "- Markus Neteler - Mundialis, Université de Trento\r\n",
    "- Markus Metz - Mundialis\r\n",
    "- Anna Petrasova, Vaclav Petras - Tangible Landscape / NCSU USA - Université de Prague\r\n",
    "- Moritz Le#nnert - Université Libre de Bruxelles\r\n",
    "\r\n",
    "### Plus d'informations\r\n",
    "- https://grass.osgeo.org/documentation/general-overview/\r\n",
    "- https://grasswiki.osgeo.org/wiki/Applications\r\n",
    "- https://grass.osgeo.org/documentation/gene\n",
    "\n",
    "\n",
    "## Introduction aux notebooks JupyterLab\n",
    "GRASS GIS au travers des notebooks JupyterLab !\n",
    "Les notebooks JupyterLab sont des environnements de développement interactifs très populaires pour l'analyse de données, la visualisation et l'apprentissage automatique.\n",
    "Dans cette introduction, nous allons explorer les fonctionnalités essentielles de JupyterLab et apprendre comment lancer des commandes en Python et en Bash.\r\n",
    "\r\n",
    "JupyterLab est une interface web qui vous permet de créer, éditer et exécuter des notebooks. Les notebooks sont des documents interactifs qui peuvent contenir du code, des visualisations, du texte explicatif et bien plus encor\n",
    ". Ils sont organisés en cellules, où chaque cellule peut contenir du code ou du texte. Cela permet une approche itérative du développement, où vous pouvez exécuter du code par cellule et voir les résultats immédiatement.ule.\r\n",
    "\r\n",
    "Pour exécuter une cellule de code, vous pouvez utiliser la combinaison de touches \"Shift + Entrée\" ou cliquer sur le bouton \"Exécuter\" dans la barre d\n",
    "outils. Lorsque vous exécutez une cellule de codees avant de continuer.us familiariser d'abord avec ces langages avant dtinuer.\r\n",
    "\r\n",
    "\r\n",
    "\r\n",
    "\r\n",
    "\r\n",
    "\r\n",
    "\r\n"
   ]
  },
  {
   "cell_type": "code",
   "execution_count": 1,
   "id": "a448ad14-b2af-4982-9c27-9fc2bfc159be",
   "metadata": {},
   "outputs": [
    {
     "name": "stdout",
     "output_type": "stream",
     "text": [
      "We are using Python 3.9.17\n"
     ]
    }
   ],
   "source": [
    "import sys\n",
    "v = sys.version_info\n",
    "print(f\"We are using Python {v.major}.{v.minor}.{v.micro}\")"
   ]
  },
  {
   "cell_type": "markdown",
   "id": "0f5ef4d1-a270-4869-889c-f42e57683235",
   "metadata": {},
   "source": [
    "Vous pouvez également modifier le code d'une cellule et réexécuter celle-ci pour mettre à jour les résultats.\n",
    "\n",
    "Outre l'exécution de code Python, JupyterLab prend également en charge l'exécution de commandes Bash directement depuis les notebooks. \n",
    "Pour exécuter une commande Bash, vous pouvez utiliser la commande `%%bash` :\r\n",
    "\r\n",
    "\r\n",
    "\r\n"
   ]
  },
  {
   "cell_type": "code",
   "execution_count": 2,
   "id": "426726c2-3bf2-42d6-a51e-61013e857b9f",
   "metadata": {},
   "outputs": [
    {
     "name": "stdout",
     "output_type": "stream",
     "text": [
      "Untitled.ipynb\n",
      "\u001b[34mdata\u001b[m\u001b[m\n"
     ]
    }
   ],
   "source": [
    "%%bash\n",
    "ls"
   ]
  },
  {
   "cell_type": "markdown",
   "id": "0b841c4a-c337-4407-943f-6eac1d0743ea",
   "metadata": {},
   "source": [
    "Ou le préfixe `!` avant la commande. Par exemple, `!ls` affichera le contenu du répertoire courant."
   ]
  },
  {
   "cell_type": "code",
   "execution_count": 3,
   "id": "2e81658f-6487-465f-b31b-0aa3c11e19ab",
   "metadata": {},
   "outputs": [
    {
     "name": "stdout",
     "output_type": "stream",
     "text": [
      "Untitled.ipynb \u001b[34mdata\u001b[m\u001b[m\n"
     ]
    }
   ],
   "source": [
    "!ls"
   ]
  },
  {
   "cell_type": "markdown",
   "id": "ee91c9de-1a34-413e-935c-e67edde7ad38",
   "metadata": {},
   "source": [
    "La formation proposera les solutions pour python, bash unix et cli windows.\n",
    "\n",
    "N.B : Veillez noter que cette formation suppose que vous avez des connaissances de base en programmation Python et Bash."
   ]
  }
 ],
 "metadata": {
  "kernelspec": {
   "display_name": "Python 3 (ipykernel)",
   "language": "python",
   "name": "python3"
  },
  "language_info": {
   "codemirror_mode": {
    "name": "ipython",
    "version": 3
   },
   "file_extension": ".py",
   "mimetype": "text/x-python",
   "name": "python",
   "nbconvert_exporter": "python",
   "pygments_lexer": "ipython3",
   "version": "3.9.17"
  }
 },
 "nbformat": 4,
 "nbformat_minor": 5
}
